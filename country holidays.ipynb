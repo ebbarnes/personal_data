{
 "cells": [
  {
   "cell_type": "code",
   "execution_count": 9,
   "id": "fdd1eca9",
   "metadata": {},
   "outputs": [
    {
     "name": "stdout",
     "output_type": "stream",
     "text": [
      "Collecting workalendar\n",
      "  Downloading workalendar-16.2.0-py3-none-any.whl (205 kB)\n",
      "Requirement already satisfied: convertdate in c:\\users\\bc122704\\anaconda3\\lib\\site-packages (from workalendar) (2.3.2)\n",
      "Collecting backports.zoneinfo\n",
      "  Downloading backports.zoneinfo-0.2.1-cp38-cp38-win_amd64.whl (38 kB)\n",
      "Collecting tzdata\n",
      "  Downloading tzdata-2021.5-py2.py3-none-any.whl (339 kB)\n",
      "Collecting pyluach\n",
      "  Downloading pyluach-1.3.0-py3-none-any.whl (17 kB)\n",
      "Requirement already satisfied: python-dateutil in c:\\users\\bc122704\\anaconda3\\lib\\site-packages (from workalendar) (2.8.1)\n",
      "Collecting lunardate\n",
      "  Downloading lunardate-0.2.0-py3-none-any.whl (5.6 kB)\n",
      "Requirement already satisfied: pymeeus<=1,>=0.3.13 in c:\\users\\bc122704\\anaconda3\\lib\\site-packages (from convertdate->workalendar) (0.5.11)\n",
      "Requirement already satisfied: pytz>=2014.10 in c:\\users\\bc122704\\anaconda3\\lib\\site-packages (from convertdate->workalendar) (2021.1)\n",
      "Requirement already satisfied: six>=1.5 in c:\\users\\bc122704\\anaconda3\\lib\\site-packages (from python-dateutil->workalendar) (1.15.0)\n",
      "Installing collected packages: tzdata, pyluach, lunardate, backports.zoneinfo, workalendar\n",
      "Successfully installed backports.zoneinfo-0.2.1 lunardate-0.2.0 pyluach-1.3.0 tzdata-2021.5 workalendar-16.2.0\n",
      "Note: you may need to restart the kernel to use updated packages.\n"
     ]
    }
   ],
   "source": [
    "\n",
    "pip install workalendar"
   ]
  },
  {
   "cell_type": "code",
   "execution_count": 11,
   "id": "150a9d56",
   "metadata": {},
   "outputs": [],
   "source": [
    "import pandas as pd\n",
    "from datetime import date\n",
    "import holidays\n",
    "from workalendar.europe import Germany\n"
   ]
  },
  {
   "cell_type": "code",
   "execution_count": 13,
   "id": "4446263d",
   "metadata": {},
   "outputs": [],
   "source": [
    "cal=Germany()"
   ]
  },
  {
   "cell_type": "code",
   "execution_count": 17,
   "id": "f5b6c52e",
   "metadata": {},
   "outputs": [
    {
     "data": {
      "text/plain": [
       "[(datetime.date(2022, 1, 1), 'New year'),\n",
       " (datetime.date(2022, 4, 15), 'Good Friday'),\n",
       " (datetime.date(2022, 4, 18), 'Easter Monday'),\n",
       " (datetime.date(2022, 5, 1), 'Labour Day'),\n",
       " (datetime.date(2022, 5, 26), 'Ascension Thursday'),\n",
       " (datetime.date(2022, 6, 6), 'Whit Monday'),\n",
       " (datetime.date(2022, 10, 3), 'Day of German Unity'),\n",
       " (datetime.date(2022, 12, 25), 'Christmas Day'),\n",
       " (datetime.date(2022, 12, 26), 'Second Christmas Day')]"
      ]
     },
     "execution_count": 17,
     "metadata": {},
     "output_type": "execute_result"
    }
   ],
   "source": [
    "cal.holidays(2022)\n"
   ]
  },
  {
   "cell_type": "code",
   "execution_count": 25,
   "id": "afa4b2e6",
   "metadata": {},
   "outputs": [
    {
     "name": "stdout",
     "output_type": "stream",
     "text": [
      "(datetime.date(2021, 1, 1), 'Neujahr')\n",
      "(datetime.date(2021, 4, 2), 'Karfreitag')\n",
      "(datetime.date(2021, 4, 5), 'Ostermontag')\n",
      "(datetime.date(2021, 5, 1), 'Erster Mai')\n",
      "(datetime.date(2021, 5, 13), 'Christi Himmelfahrt')\n",
      "(datetime.date(2021, 5, 24), 'Pfingstmontag')\n",
      "(datetime.date(2021, 10, 3), 'Tag der Deutschen Einheit')\n",
      "(datetime.date(2021, 12, 25), 'Erster Weihnachtstag')\n",
      "(datetime.date(2021, 12, 26), 'Zweiter Weihnachtstag')\n",
      "(datetime.date(2022, 1, 1), 'Neujahr')\n",
      "(datetime.date(2022, 4, 15), 'Karfreitag')\n",
      "(datetime.date(2022, 4, 18), 'Ostermontag')\n",
      "(datetime.date(2022, 5, 1), 'Erster Mai')\n",
      "(datetime.date(2022, 5, 26), 'Christi Himmelfahrt')\n",
      "(datetime.date(2022, 6, 6), 'Pfingstmontag')\n",
      "(datetime.date(2022, 10, 3), 'Tag der Deutschen Einheit')\n",
      "(datetime.date(2022, 12, 25), 'Erster Weihnachtstag')\n",
      "(datetime.date(2022, 12, 26), 'Zweiter Weihnachtstag')\n"
     ]
    }
   ],
   "source": [
    "holiday_list=[]\n",
    "for holiday in holidays.Germany(years=[2022,2021]).items():\n",
    "     print(holiday)"
   ]
  },
  {
   "cell_type": "code",
   "execution_count": 28,
   "id": "58aa0978",
   "metadata": {},
   "outputs": [],
   "source": [
    "holiday_list.append(holiday)\n",
    "holiday_df=pd.DataFrame(holiday_list,columns=[\"date\",\"holiday\"])"
   ]
  },
  {
   "cell_type": "code",
   "execution_count": 29,
   "id": "53d3d51d",
   "metadata": {},
   "outputs": [
    {
     "data": {
      "text/html": [
       "<div>\n",
       "<style scoped>\n",
       "    .dataframe tbody tr th:only-of-type {\n",
       "        vertical-align: middle;\n",
       "    }\n",
       "\n",
       "    .dataframe tbody tr th {\n",
       "        vertical-align: top;\n",
       "    }\n",
       "\n",
       "    .dataframe thead th {\n",
       "        text-align: right;\n",
       "    }\n",
       "</style>\n",
       "<table border=\"1\" class=\"dataframe\">\n",
       "  <thead>\n",
       "    <tr style=\"text-align: right;\">\n",
       "      <th></th>\n",
       "      <th>date</th>\n",
       "      <th>holiday</th>\n",
       "    </tr>\n",
       "  </thead>\n",
       "  <tbody>\n",
       "    <tr>\n",
       "      <th>0</th>\n",
       "      <td>2022-12-26</td>\n",
       "      <td>Zweiter Weihnachtstag</td>\n",
       "    </tr>\n",
       "    <tr>\n",
       "      <th>1</th>\n",
       "      <td>2022-12-26</td>\n",
       "      <td>Zweiter Weihnachtstag</td>\n",
       "    </tr>\n",
       "    <tr>\n",
       "      <th>2</th>\n",
       "      <td>2022-12-26</td>\n",
       "      <td>Zweiter Weihnachtstag</td>\n",
       "    </tr>\n",
       "  </tbody>\n",
       "</table>\n",
       "</div>"
      ],
      "text/plain": [
       "         date                holiday\n",
       "0  2022-12-26  Zweiter Weihnachtstag\n",
       "1  2022-12-26  Zweiter Weihnachtstag\n",
       "2  2022-12-26  Zweiter Weihnachtstag"
      ]
     },
     "execution_count": 29,
     "metadata": {},
     "output_type": "execute_result"
    }
   ],
   "source": [
    "holiday_df"
   ]
  },
  {
   "cell_type": "code",
   "execution_count": 30,
   "id": "d0851bb0",
   "metadata": {},
   "outputs": [
    {
     "data": {
      "text/plain": [
       "False"
      ]
     },
     "execution_count": 30,
     "metadata": {},
     "output_type": "execute_result"
    }
   ],
   "source": [
    "cal.is_working_day(date(2012, 12, 25))"
   ]
  },
  {
   "cell_type": "code",
   "execution_count": 31,
   "id": "d036d590",
   "metadata": {},
   "outputs": [
    {
     "data": {
      "text/plain": [
       "False"
      ]
     },
     "execution_count": 31,
     "metadata": {},
     "output_type": "execute_result"
    }
   ],
   "source": [
    "cal.is_working_day(date(2022, 12, 25))"
   ]
  },
  {
   "cell_type": "code",
   "execution_count": 32,
   "id": "fab5835d",
   "metadata": {},
   "outputs": [
    {
     "data": {
      "text/plain": [
       "'C:\\\\Users\\\\BC122704'"
      ]
     },
     "execution_count": 32,
     "metadata": {},
     "output_type": "execute_result"
    }
   ],
   "source": [
    "import os\n",
    "os.getcwd()"
   ]
  },
  {
   "cell_type": "code",
   "execution_count": null,
   "id": "f1b53e65",
   "metadata": {},
   "outputs": [],
   "source": []
  }
 ],
 "metadata": {
  "kernelspec": {
   "display_name": "Python 3",
   "language": "python",
   "name": "python3"
  },
  "language_info": {
   "codemirror_mode": {
    "name": "ipython",
    "version": 3
   },
   "file_extension": ".py",
   "mimetype": "text/x-python",
   "name": "python",
   "nbconvert_exporter": "python",
   "pygments_lexer": "ipython3",
   "version": "3.8.8"
  }
 },
 "nbformat": 4,
 "nbformat_minor": 5
}
